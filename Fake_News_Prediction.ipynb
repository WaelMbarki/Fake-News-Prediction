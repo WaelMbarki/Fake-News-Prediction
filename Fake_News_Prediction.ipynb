{
  "cells": [
    {
      "cell_type": "markdown",
      "metadata": {
        "id": "qXvn_vo5ABrT"
      },
      "source": [
        "**Description** :\n",
        "Develop a machine learning program to identify when an article might be fake news.\n",
        "\n",
        "1 represents fake news\n",
        "\n",
        "\n",
        "0 represents not fake"
      ]
    },
    {
      "cell_type": "markdown",
      "metadata": {
        "id": "_6LimTl1ALC0"
      },
      "source": [
        "Dataset source: https://www.kaggle.com/c/fake-news/data?select=train.csv"
      ]
    },
    {
      "cell_type": "markdown",
      "metadata": {
        "id": "wCac0ITVAItH"
      },
      "source": [
        "**Importing the necessary libraries**"
      ]
    },
    {
      "cell_type": "code",
      "execution_count": 93,
      "metadata": {
        "id": "9fqtu7glArp7"
      },
      "outputs": [],
      "source": [
        "import pandas as pd\n",
        "import numpy as np\n",
        "import re #for searching words in a text\n",
        "from nltk.corpus import stopwords #nltk stands for natural language  , stop words : el words eli maandhomch value kbira kima the, and\n",
        "from nltk.stem.porter import PorterStemmer #takes a word and removes the prefix and suffix\n",
        "from sklearn.feature_extraction.text import TfidfVectorizer #converting the text into feature vectors\n",
        "from sklearn.model_selection import train_test_split\n",
        "from sklearn.linear_model import LogisticRegression\n",
        "from sklearn.metrics import accuracy_score"
      ]
    },
    {
      "cell_type": "code",
      "execution_count": 94,
      "metadata": {
        "colab": {
          "base_uri": "https://localhost:8080/"
        },
        "id": "5Cmo0gDo_ieJ",
        "outputId": "aebf192d-8b52-47f1-823b-aeb2a0c52744"
      },
      "outputs": [
        {
          "output_type": "stream",
          "name": "stderr",
          "text": [
            "[nltk_data] Downloading package stopwords to /root/nltk_data...\n",
            "[nltk_data]   Package stopwords is already up-to-date!\n"
          ]
        },
        {
          "output_type": "execute_result",
          "data": {
            "text/plain": [
              "True"
            ]
          },
          "metadata": {},
          "execution_count": 94
        }
      ],
      "source": [
        "import nltk\n",
        "nltk.download('stopwords')"
      ]
    },
    {
      "cell_type": "code",
      "source": [
        "print(stopwords.words('english')) #these are the stopwords in the english lang"
      ],
      "metadata": {
        "colab": {
          "base_uri": "https://localhost:8080/"
        },
        "id": "Jyo6E8Aeo7hK",
        "outputId": "8bb968db-123b-4d9b-aced-b3aca69ad0db"
      },
      "execution_count": 95,
      "outputs": [
        {
          "output_type": "stream",
          "name": "stdout",
          "text": [
            "['i', 'me', 'my', 'myself', 'we', 'our', 'ours', 'ourselves', 'you', \"you're\", \"you've\", \"you'll\", \"you'd\", 'your', 'yours', 'yourself', 'yourselves', 'he', 'him', 'his', 'himself', 'she', \"she's\", 'her', 'hers', 'herself', 'it', \"it's\", 'its', 'itself', 'they', 'them', 'their', 'theirs', 'themselves', 'what', 'which', 'who', 'whom', 'this', 'that', \"that'll\", 'these', 'those', 'am', 'is', 'are', 'was', 'were', 'be', 'been', 'being', 'have', 'has', 'had', 'having', 'do', 'does', 'did', 'doing', 'a', 'an', 'the', 'and', 'but', 'if', 'or', 'because', 'as', 'until', 'while', 'of', 'at', 'by', 'for', 'with', 'about', 'against', 'between', 'into', 'through', 'during', 'before', 'after', 'above', 'below', 'to', 'from', 'up', 'down', 'in', 'out', 'on', 'off', 'over', 'under', 'again', 'further', 'then', 'once', 'here', 'there', 'when', 'where', 'why', 'how', 'all', 'any', 'both', 'each', 'few', 'more', 'most', 'other', 'some', 'such', 'no', 'nor', 'not', 'only', 'own', 'same', 'so', 'than', 'too', 'very', 's', 't', 'can', 'will', 'just', 'don', \"don't\", 'should', \"should've\", 'now', 'd', 'll', 'm', 'o', 're', 've', 'y', 'ain', 'aren', \"aren't\", 'couldn', \"couldn't\", 'didn', \"didn't\", 'doesn', \"doesn't\", 'hadn', \"hadn't\", 'hasn', \"hasn't\", 'haven', \"haven't\", 'isn', \"isn't\", 'ma', 'mightn', \"mightn't\", 'mustn', \"mustn't\", 'needn', \"needn't\", 'shan', \"shan't\", 'shouldn', \"shouldn't\", 'wasn', \"wasn't\", 'weren', \"weren't\", 'won', \"won't\", 'wouldn', \"wouldn't\"]\n"
          ]
        }
      ]
    },
    {
      "cell_type": "markdown",
      "source": [
        "**Data Preprocessing**"
      ],
      "metadata": {
        "id": "mv12aFD3pQrd"
      }
    },
    {
      "cell_type": "code",
      "source": [
        "#loading the dataset\n",
        "df = pd.read_csv('/content/train.csv',nrows=10953)\n",
        "df.head()"
      ],
      "metadata": {
        "colab": {
          "base_uri": "https://localhost:8080/",
          "height": 206
        },
        "id": "9BVYZcoOpVke",
        "outputId": "ba431b22-d9fe-44e1-f26e-e11395f4cacf"
      },
      "execution_count": 96,
      "outputs": [
        {
          "output_type": "execute_result",
          "data": {
            "text/plain": [
              "   id                                              title              author  \\\n",
              "0   0  House Dem Aide: We Didn’t Even See Comey’s Let...       Darrell Lucus   \n",
              "1   1  FLYNN: Hillary Clinton, Big Woman on Campus - ...     Daniel J. Flynn   \n",
              "2   2                  Why the Truth Might Get You Fired  Consortiumnews.com   \n",
              "3   3  15 Civilians Killed In Single US Airstrike Hav...     Jessica Purkiss   \n",
              "4   4  Iranian woman jailed for fictional unpublished...      Howard Portnoy   \n",
              "\n",
              "                                                text  label  \n",
              "0  House Dem Aide: We Didn’t Even See Comey’s Let...      1  \n",
              "1  Ever get the feeling your life circles the rou...      0  \n",
              "2  Why the Truth Might Get You Fired October 29, ...      1  \n",
              "3  Videos 15 Civilians Killed In Single US Airstr...      1  \n",
              "4  Print \\nAn Iranian woman has been sentenced to...      1  "
            ],
            "text/html": [
              "\n",
              "  <div id=\"df-24db6dc4-664e-491a-91ef-8f66391b3d42\" class=\"colab-df-container\">\n",
              "    <div>\n",
              "<style scoped>\n",
              "    .dataframe tbody tr th:only-of-type {\n",
              "        vertical-align: middle;\n",
              "    }\n",
              "\n",
              "    .dataframe tbody tr th {\n",
              "        vertical-align: top;\n",
              "    }\n",
              "\n",
              "    .dataframe thead th {\n",
              "        text-align: right;\n",
              "    }\n",
              "</style>\n",
              "<table border=\"1\" class=\"dataframe\">\n",
              "  <thead>\n",
              "    <tr style=\"text-align: right;\">\n",
              "      <th></th>\n",
              "      <th>id</th>\n",
              "      <th>title</th>\n",
              "      <th>author</th>\n",
              "      <th>text</th>\n",
              "      <th>label</th>\n",
              "    </tr>\n",
              "  </thead>\n",
              "  <tbody>\n",
              "    <tr>\n",
              "      <th>0</th>\n",
              "      <td>0</td>\n",
              "      <td>House Dem Aide: We Didn’t Even See Comey’s Let...</td>\n",
              "      <td>Darrell Lucus</td>\n",
              "      <td>House Dem Aide: We Didn’t Even See Comey’s Let...</td>\n",
              "      <td>1</td>\n",
              "    </tr>\n",
              "    <tr>\n",
              "      <th>1</th>\n",
              "      <td>1</td>\n",
              "      <td>FLYNN: Hillary Clinton, Big Woman on Campus - ...</td>\n",
              "      <td>Daniel J. Flynn</td>\n",
              "      <td>Ever get the feeling your life circles the rou...</td>\n",
              "      <td>0</td>\n",
              "    </tr>\n",
              "    <tr>\n",
              "      <th>2</th>\n",
              "      <td>2</td>\n",
              "      <td>Why the Truth Might Get You Fired</td>\n",
              "      <td>Consortiumnews.com</td>\n",
              "      <td>Why the Truth Might Get You Fired October 29, ...</td>\n",
              "      <td>1</td>\n",
              "    </tr>\n",
              "    <tr>\n",
              "      <th>3</th>\n",
              "      <td>3</td>\n",
              "      <td>15 Civilians Killed In Single US Airstrike Hav...</td>\n",
              "      <td>Jessica Purkiss</td>\n",
              "      <td>Videos 15 Civilians Killed In Single US Airstr...</td>\n",
              "      <td>1</td>\n",
              "    </tr>\n",
              "    <tr>\n",
              "      <th>4</th>\n",
              "      <td>4</td>\n",
              "      <td>Iranian woman jailed for fictional unpublished...</td>\n",
              "      <td>Howard Portnoy</td>\n",
              "      <td>Print \\nAn Iranian woman has been sentenced to...</td>\n",
              "      <td>1</td>\n",
              "    </tr>\n",
              "  </tbody>\n",
              "</table>\n",
              "</div>\n",
              "    <div class=\"colab-df-buttons\">\n",
              "\n",
              "  <div class=\"colab-df-container\">\n",
              "    <button class=\"colab-df-convert\" onclick=\"convertToInteractive('df-24db6dc4-664e-491a-91ef-8f66391b3d42')\"\n",
              "            title=\"Convert this dataframe to an interactive table.\"\n",
              "            style=\"display:none;\">\n",
              "\n",
              "  <svg xmlns=\"http://www.w3.org/2000/svg\" height=\"24px\" viewBox=\"0 -960 960 960\">\n",
              "    <path d=\"M120-120v-720h720v720H120Zm60-500h600v-160H180v160Zm220 220h160v-160H400v160Zm0 220h160v-160H400v160ZM180-400h160v-160H180v160Zm440 0h160v-160H620v160ZM180-180h160v-160H180v160Zm440 0h160v-160H620v160Z\"/>\n",
              "  </svg>\n",
              "    </button>\n",
              "\n",
              "  <style>\n",
              "    .colab-df-container {\n",
              "      display:flex;\n",
              "      gap: 12px;\n",
              "    }\n",
              "\n",
              "    .colab-df-convert {\n",
              "      background-color: #E8F0FE;\n",
              "      border: none;\n",
              "      border-radius: 50%;\n",
              "      cursor: pointer;\n",
              "      display: none;\n",
              "      fill: #1967D2;\n",
              "      height: 32px;\n",
              "      padding: 0 0 0 0;\n",
              "      width: 32px;\n",
              "    }\n",
              "\n",
              "    .colab-df-convert:hover {\n",
              "      background-color: #E2EBFA;\n",
              "      box-shadow: 0px 1px 2px rgba(60, 64, 67, 0.3), 0px 1px 3px 1px rgba(60, 64, 67, 0.15);\n",
              "      fill: #174EA6;\n",
              "    }\n",
              "\n",
              "    .colab-df-buttons div {\n",
              "      margin-bottom: 4px;\n",
              "    }\n",
              "\n",
              "    [theme=dark] .colab-df-convert {\n",
              "      background-color: #3B4455;\n",
              "      fill: #D2E3FC;\n",
              "    }\n",
              "\n",
              "    [theme=dark] .colab-df-convert:hover {\n",
              "      background-color: #434B5C;\n",
              "      box-shadow: 0px 1px 3px 1px rgba(0, 0, 0, 0.15);\n",
              "      filter: drop-shadow(0px 1px 2px rgba(0, 0, 0, 0.3));\n",
              "      fill: #FFFFFF;\n",
              "    }\n",
              "  </style>\n",
              "\n",
              "    <script>\n",
              "      const buttonEl =\n",
              "        document.querySelector('#df-24db6dc4-664e-491a-91ef-8f66391b3d42 button.colab-df-convert');\n",
              "      buttonEl.style.display =\n",
              "        google.colab.kernel.accessAllowed ? 'block' : 'none';\n",
              "\n",
              "      async function convertToInteractive(key) {\n",
              "        const element = document.querySelector('#df-24db6dc4-664e-491a-91ef-8f66391b3d42');\n",
              "        const dataTable =\n",
              "          await google.colab.kernel.invokeFunction('convertToInteractive',\n",
              "                                                    [key], {});\n",
              "        if (!dataTable) return;\n",
              "\n",
              "        const docLinkHtml = 'Like what you see? Visit the ' +\n",
              "          '<a target=\"_blank\" href=https://colab.research.google.com/notebooks/data_table.ipynb>data table notebook</a>'\n",
              "          + ' to learn more about interactive tables.';\n",
              "        element.innerHTML = '';\n",
              "        dataTable['output_type'] = 'display_data';\n",
              "        await google.colab.output.renderOutput(dataTable, element);\n",
              "        const docLink = document.createElement('div');\n",
              "        docLink.innerHTML = docLinkHtml;\n",
              "        element.appendChild(docLink);\n",
              "      }\n",
              "    </script>\n",
              "  </div>\n",
              "\n",
              "\n",
              "<div id=\"df-79fbca5b-1e6c-4018-bf7e-49fcfdb6c854\">\n",
              "  <button class=\"colab-df-quickchart\" onclick=\"quickchart('df-79fbca5b-1e6c-4018-bf7e-49fcfdb6c854')\"\n",
              "            title=\"Suggest charts\"\n",
              "            style=\"display:none;\">\n",
              "\n",
              "<svg xmlns=\"http://www.w3.org/2000/svg\" height=\"24px\"viewBox=\"0 0 24 24\"\n",
              "     width=\"24px\">\n",
              "    <g>\n",
              "        <path d=\"M19 3H5c-1.1 0-2 .9-2 2v14c0 1.1.9 2 2 2h14c1.1 0 2-.9 2-2V5c0-1.1-.9-2-2-2zM9 17H7v-7h2v7zm4 0h-2V7h2v10zm4 0h-2v-4h2v4z\"/>\n",
              "    </g>\n",
              "</svg>\n",
              "  </button>\n",
              "\n",
              "<style>\n",
              "  .colab-df-quickchart {\n",
              "      --bg-color: #E8F0FE;\n",
              "      --fill-color: #1967D2;\n",
              "      --hover-bg-color: #E2EBFA;\n",
              "      --hover-fill-color: #174EA6;\n",
              "      --disabled-fill-color: #AAA;\n",
              "      --disabled-bg-color: #DDD;\n",
              "  }\n",
              "\n",
              "  [theme=dark] .colab-df-quickchart {\n",
              "      --bg-color: #3B4455;\n",
              "      --fill-color: #D2E3FC;\n",
              "      --hover-bg-color: #434B5C;\n",
              "      --hover-fill-color: #FFFFFF;\n",
              "      --disabled-bg-color: #3B4455;\n",
              "      --disabled-fill-color: #666;\n",
              "  }\n",
              "\n",
              "  .colab-df-quickchart {\n",
              "    background-color: var(--bg-color);\n",
              "    border: none;\n",
              "    border-radius: 50%;\n",
              "    cursor: pointer;\n",
              "    display: none;\n",
              "    fill: var(--fill-color);\n",
              "    height: 32px;\n",
              "    padding: 0;\n",
              "    width: 32px;\n",
              "  }\n",
              "\n",
              "  .colab-df-quickchart:hover {\n",
              "    background-color: var(--hover-bg-color);\n",
              "    box-shadow: 0 1px 2px rgba(60, 64, 67, 0.3), 0 1px 3px 1px rgba(60, 64, 67, 0.15);\n",
              "    fill: var(--button-hover-fill-color);\n",
              "  }\n",
              "\n",
              "  .colab-df-quickchart-complete:disabled,\n",
              "  .colab-df-quickchart-complete:disabled:hover {\n",
              "    background-color: var(--disabled-bg-color);\n",
              "    fill: var(--disabled-fill-color);\n",
              "    box-shadow: none;\n",
              "  }\n",
              "\n",
              "  .colab-df-spinner {\n",
              "    border: 2px solid var(--fill-color);\n",
              "    border-color: transparent;\n",
              "    border-bottom-color: var(--fill-color);\n",
              "    animation:\n",
              "      spin 1s steps(1) infinite;\n",
              "  }\n",
              "\n",
              "  @keyframes spin {\n",
              "    0% {\n",
              "      border-color: transparent;\n",
              "      border-bottom-color: var(--fill-color);\n",
              "      border-left-color: var(--fill-color);\n",
              "    }\n",
              "    20% {\n",
              "      border-color: transparent;\n",
              "      border-left-color: var(--fill-color);\n",
              "      border-top-color: var(--fill-color);\n",
              "    }\n",
              "    30% {\n",
              "      border-color: transparent;\n",
              "      border-left-color: var(--fill-color);\n",
              "      border-top-color: var(--fill-color);\n",
              "      border-right-color: var(--fill-color);\n",
              "    }\n",
              "    40% {\n",
              "      border-color: transparent;\n",
              "      border-right-color: var(--fill-color);\n",
              "      border-top-color: var(--fill-color);\n",
              "    }\n",
              "    60% {\n",
              "      border-color: transparent;\n",
              "      border-right-color: var(--fill-color);\n",
              "    }\n",
              "    80% {\n",
              "      border-color: transparent;\n",
              "      border-right-color: var(--fill-color);\n",
              "      border-bottom-color: var(--fill-color);\n",
              "    }\n",
              "    90% {\n",
              "      border-color: transparent;\n",
              "      border-bottom-color: var(--fill-color);\n",
              "    }\n",
              "  }\n",
              "</style>\n",
              "\n",
              "  <script>\n",
              "    async function quickchart(key) {\n",
              "      const quickchartButtonEl =\n",
              "        document.querySelector('#' + key + ' button');\n",
              "      quickchartButtonEl.disabled = true;  // To prevent multiple clicks.\n",
              "      quickchartButtonEl.classList.add('colab-df-spinner');\n",
              "      try {\n",
              "        const charts = await google.colab.kernel.invokeFunction(\n",
              "            'suggestCharts', [key], {});\n",
              "      } catch (error) {\n",
              "        console.error('Error during call to suggestCharts:', error);\n",
              "      }\n",
              "      quickchartButtonEl.classList.remove('colab-df-spinner');\n",
              "      quickchartButtonEl.classList.add('colab-df-quickchart-complete');\n",
              "    }\n",
              "    (() => {\n",
              "      let quickchartButtonEl =\n",
              "        document.querySelector('#df-79fbca5b-1e6c-4018-bf7e-49fcfdb6c854 button');\n",
              "      quickchartButtonEl.style.display =\n",
              "        google.colab.kernel.accessAllowed ? 'block' : 'none';\n",
              "    })();\n",
              "  </script>\n",
              "</div>\n",
              "\n",
              "    </div>\n",
              "  </div>\n"
            ],
            "application/vnd.google.colaboratory.intrinsic+json": {
              "type": "dataframe",
              "variable_name": "df",
              "summary": "{\n  \"name\": \"df\",\n  \"rows\": 10953,\n  \"fields\": [\n    {\n      \"column\": \"id\",\n      \"properties\": {\n        \"dtype\": \"number\",\n        \"std\": 3162,\n        \"min\": 0,\n        \"max\": 10952,\n        \"num_unique_values\": 10953,\n        \"samples\": [\n          3819,\n          9122,\n          3047\n        ],\n        \"semantic_type\": \"\",\n        \"description\": \"\"\n      }\n    },\n    {\n      \"column\": \"title\",\n      \"properties\": {\n        \"dtype\": \"string\",\n        \"num_unique_values\": 10520,\n        \"samples\": [\n          \"Dalai Lama: Vladimir Putin Is Right, The US Created ISIS\",\n          \"Oregon standoff defendants found not guilty in \\u2018unbelievable, truly astonishing\\u2019 verdict\",\n          \"Texas Oil Fields Rebound From Price Lull, but Jobs Are Left Behind - The New York Times\"\n        ],\n        \"semantic_type\": \"\",\n        \"description\": \"\"\n      }\n    },\n    {\n      \"column\": \"author\",\n      \"properties\": {\n        \"dtype\": \"category\",\n        \"num_unique_values\": 2822,\n        \"samples\": [\n          \"Tennessee Dan\",\n          \"Lloyd Billingsley\",\n          \"Mike Dan\"\n        ],\n        \"semantic_type\": \"\",\n        \"description\": \"\"\n      }\n    },\n    {\n      \"column\": \"text\",\n      \"properties\": {\n        \"dtype\": \"string\",\n        \"num_unique_values\": 10767,\n        \"samples\": [\n          \"Rep. Schiff: US Doesn't Want to Provoke Retaliation Before Vote by Jason Ditz, October 27, 2016 Share This \\nWhile the Obama Administration has made much of its intention to start a full-scale cyberwar against Russia at a \\u201ctime of their choosing,\\u201d the most recent reports suggest that the war is effectively on hold at least until the presidential election in two weeks. \\nFrom President Obama\\u2019s standpoint, the hope is to work with Hillary Clinton, if she becomes president-elect, to launch a cyber war that they both can get behind. Indeed, both have appeared very hawkish against Russia, and Obama apparently doesn\\u2019t want to deny Clinton a chance to participate in the early days of a war she\\u2019d inherit. \\nStarting a cyberwar ahead of a Trump win would be even less wise, as Trump has opposed the idea of picking fights with Russia, and expressed strong doubts about Democratic Party \\u201ccertainty\\u201d that Russia is behind hacks against them. \\nRep. Adam Schiff (D \\u2013 CA), the ranking Democrat on the House Intelligence Committee, says that another factor is concern about provoking Russian retaliation for such a US attack before the vote, with many Democrats concerned Russia could release \\u201cforged\\u201d documents to embarrass the Clinton campaign. \\nEarlier this month, Vice President Joe Biden reported that he has informed Russia of an imminent retaliatory hack, and says the Obama Administration will pick a time which will \\u201chave the greatest impact.\\u201d Russia has denied any involvement in the hacks. Last 5 posts by Jason Ditz\",\n          \"COLORADO SPRINGS  \\u2014   As the Supreme Court prepares to return to the bench next month, its two newest members have been reflecting on the absence of Justice Antonin Scalia, who died in February, and on the striking lack of diversity among the remaining justices. They are all graduates of just three Ivy League law schools. None are Protestants. All but one come from a coastal state. In remarks last week in Arizona and Colorado, Justices Sonia Sotomayor and Elena Kagan, President Obama\\u2019s two appointees, steered clear of commenting directly on the stalled nomination of his third choice, Judge Merrick B. Garland. But they did talk about how a new colleague could reinforce or disrupt a court that is in some ways exceptionally homogeneous. \\u201cWe\\u2019re not as diverse as some would like in many important characteristics  \\u2014   educational institutions, religion, places where we come from,\\u201d Justice Sotomayor said on Thursday at a judicial conference here. Justice Kagan, speaking on Wednesday at the University of Arizona in Tucson, said the court may suffer from what she called a \\u201ccoastal perspective,\\u201d The Arizona Daily Star reported. (She is from New York City. As is Justice Sotomayor. As is Justice Ruth Bader Ginsburg. As was Justice Scalia. Between the four of them, they represented every borough but Staten Island.) Justice Scalia made a similar point in a dissent last year. \\u201cEight of them grew up in East and West Coast states,\\u201d Justice Scalia wrote of the court\\u2019s membership at the time. \\u201cOnly one hails from the vast expanse \\u201d he added, referring to Chief Justice John G. Roberts Jr. who is from Indiana. On this score, Judge Garland would bring a dash of variety to the court, as he is from Chicago. But he has long worked in Washington, in the Justice Department and, for the past 19 years, on the United States Court of Appeals for the District of Columbia Circuit. In other ways, Judge Garland would not bring notable diversity to the Supreme Court. He attended Harvard Law School, as did five of the current justices. (The other three went to Yale. Justice Ginsburg started at Harvard and graduated from Columbia.) Judge Garland is Jewish, as are three of the current justices. (The other five are Roman Catholic.) In last year\\u2019s dissent, Justice Scalia, also Catholic, mused that his court included \\u201cnot a single evangelical Christian (a group that comprises about   of Americans) or even a Protestant of any denomination. \\u201d Judge Garland would be the eighth former federal appeals court judge on the Supreme Court. (The exception is Justice Kagan.) Justices used to come from more varied professional backgrounds. They had often been governors, lawmakers, cabinet members, law professors, practicing lawyers or state court judges. As late as 1972, when Justice William H. Rehnquist joined the court, former federal judges were in the minority. At the judicial conference here on Friday, Justice Kagan suggested that prior judicial experience or other deep engagement with the law was desirable given the broad social issues the Supreme Court sometimes decides. In those cases, she said, \\u201claw has a kind of values feel to it. \\u201d \\u201cEven in those cases, you have to understand that it\\u2019s still about law,\\u201d Justice Kagan said. \\u201cYou don\\u2019t want a court of   philosophers. You want a court of people who really care about law and are good at doing it and are experienced at doing it and who bring that worldview even to cases that involve matters of broad principle. \\u201d Both justices said that more diversity on the court would bolster public confidence in its work. \\u201cPeople look at an institution and they see people who are like them, who share their experiences, who they imagine share their set of values, and that\\u2019s a sort of natural thing and they feel more comfortable if that occurs,\\u201d Justice Kagan said in Tucson. But does diversity on the bench affect outcomes? \\u201cIt\\u2019s obviously true,\\u201d Justice Kagan said, \\u201cthat people bring their backgrounds and experiences to the job in some sense. \\u201d But Justice Sotomayor said that shared experiences can lead to different perspectives, mentioning her ideological opposite, Justice Clarence Thomas. Both grew up poor, and both climbed to the pinnacle of the American legal profession. \\u201cYou would think that Clarence Thomas and I would be more similar, wouldn\\u2019t you, if you looked just at our background and upbringing,\\u201d Justice Sotomayor said. Both justices said that vacancies are so infrequent and tenures are so long that change will come haltingly. \\u201cThe Supreme Court is never going to be a melting pot reflective of the country,\\u201d Justice Sotomayor said. \\u201cIn most of our lifetimes, the court is only going to turn over one full circle. \\u201d Asked if there would ever be a female chief justice, she said, \\u201cWe hope that Chief Justice Roberts will have a very long tenure, and if he does, the issue of whether a woman would or would not be appointed would be a product of the circumstances of that moment. \\u201d For now, the   Supreme Court has a muted quality. It \\u201csputters along on its new screensaver mode,\\u201d Dahlia Lithwick wrote in Slate. That is partly a consequence of the loss of an outsize personality, Justice Sotomayor said. \\u201cNino Scalia was a big presence and he took up a lot of space in the room,\\u201d she said, using her former colleague\\u2019s nickname. \\u201cThere\\u2019s no question that arguments have toned down a little bit. There are more silent pauses during argument. \\u201d There is also the matter of simple math. The   court has been working hard to avoid deadlocks, Justice Sotomayor said, but sometimes at the expense of actually resolving anything. \\u201cThere\\u2019s a few cases where you can see we ruled very, very, very narrowly,\\u201d she said, \\u201cand it doesn\\u2019t take a genius to figure out why. \\u201d\",\n          \"Donald J. Trump\\u2019s victory in the presidential race on Tuesday night capped a remarkable election in which several Democratic Senate candidates fell short and Republicans retained their majority in the House of Representatives. Here are some key takeaways from a stunning result that upended conventional expectations and set the stage for a drastic reordering of politics in Washington: \\u2022 Mr. Trump took the stage at the Hilton just before 3 a. m. and told his supporters that Hillary Clinton called him to concede the election. Striking a gracious note, he wished her well and said, \\u201cWe owe her a major debt of gratitude for her debt to our country. \\u201d \\u2022 Reading from teleprompters and flanked by Gov. Mike Pence of Indiana and his son, Barron, Mr. Trump said he wanted to \\u201creclaim our country\\u2019s destiny\\u201d and be bold and daring. He also called for unity and said that he hoped Democrats and Republicans would work together. \\u2022 Democratic hopes that Hillary Clinton would easily defeat Mr. Trump crumbled as the evening wore on, as the Republican candidate\\u2019s bombastic style appeared to win significant support among white,   and rural voters across the country. \\u2022 Mrs. Clinton\\u2019s loss seemed to result, in part, from a    showing among   and young voters  \\u2014   two important parts of the coalition that lifted President Obama to victories in 2008 and 2012. \\u2022 Black voters made up 12 percent of the national electorate this year, nearly the same as in 2012. Mrs. Clinton won a broad majority of black voters  \\u2014   88 percent, compared with 8 percent for Mr. Trump. But Mr. Obama received 93 percent of the   vote four years ago. \\u2022 Mrs. Clinton also did slightly worse than Mr. Obama among young voters. People under 30 made up 19 percent of this year\\u2019s electorate, the same as in 2012. Mrs. Clinton got 54 percent of their support, compared with Mr. Obama\\u2019s 60 percent. Mr. Trump had the backing of 37 percent of voters under 30, the same percentage that Mitt Romney won in 2012. \\u2022 Mr. Trump won in part on his strength with voters who were not strongly identified with either party. Independents made up 31 percent of 2016 voters, compared with 29 percent in 2012. Mrs. Clinton won 42 percent of independents, compared with Mr. Trump\\u2019s 47 percent, while 6 percent voted for Gary Johnson and 3 percent supported Jill Stein. \\u2022 In the key battleground of Florida, Mr. Trump built his support largely on voters who expressed deep dismay with Washington. Nearly nine in 10 of his voters in Florida said they were dissatisfied or angry with the state of the federal government. Just as many disapproved of Mr. Obama\\u2019s job performance, and   thought the president\\u2019s health care law went too far. \\u2022 Nearly four in 10 Florida voters said they were most interested in electing a president who would bring serious change, and Mr. Trump won that group by a broad margin. Mrs. Clinton won voters looking for a compassionate, experienced or more judicious leader  \\u2014   but it was not enough to cancel out Mr. Trump\\u2019s support among those hungry for change. \\u2022 Hispanic voters made up 11 percent of voters nationwide in 2016, just 1 point higher than in 2012. While Mrs. Clinton got 65 percent support among Hispanics, compared with 29 percent for Mr. Trump, her support from this group was 6 points lower than Mr. Obama\\u2019s in 2012. \\u2022 While Mrs. Clinton did better than Mr. Trump among nonwhite voters in Florida, it was not enough to offset his success with white voters, who skew older in the state. He won those by nearly 2 to 1, including those with a college degree.   of Florida\\u2019s electorate was white and over 60. Mr. Trump pulled most of his support from the Gulf Coast and the central part of the state, a hub for wealthy retirees, offsetting Mrs. Clinton\\u2019s gaping lead in the Miami and Orlando areas. \\u2022Mr. Trump also did well in Ohio, where voters ages 18 to 29 were 11 points less likely to support the Democratic candidate this year than in 2012, with Mr. Johnson and Ms. Stein capturing 7 percent of their votes. Black voters in Ohio were 6 points less likely to support Mrs. Clinton than they were to support Mr. Obama four years ago. \\u2022 In North Carolina, 30 percent of voters were nonwhite, and Mrs. Clinton won this group by a   margin (79 percent to 17 percent). Mr. Trump, countering with a strong showing among whites, won the state. \\u2022 The suburban share of the North Carolina vote increased to 38 percent, from 28 percent in 2012, while the share of the rural vote decreased by 10 points, to 24 percent. Mr. Trump won majorities in both groups.\"\n        ],\n        \"semantic_type\": \"\",\n        \"description\": \"\"\n      }\n    },\n    {\n      \"column\": \"label\",\n      \"properties\": {\n        \"dtype\": \"number\",\n        \"std\": 0,\n        \"min\": 0,\n        \"max\": 1,\n        \"num_unique_values\": 2,\n        \"samples\": [\n          0,\n          1\n        ],\n        \"semantic_type\": \"\",\n        \"description\": \"\"\n      }\n    }\n  ]\n}"
            }
          },
          "metadata": {},
          "execution_count": 96
        }
      ]
    },
    {
      "cell_type": "code",
      "source": [
        "df.isna().sum()"
      ],
      "metadata": {
        "colab": {
          "base_uri": "https://localhost:8080/"
        },
        "id": "n5WfK-CIsX5Z",
        "outputId": "afa2e94c-fbf3-4f15-d8e6-67da84b9cc49"
      },
      "execution_count": 97,
      "outputs": [
        {
          "output_type": "execute_result",
          "data": {
            "text/plain": [
              "id           0\n",
              "title      300\n",
              "author    1038\n",
              "text        23\n",
              "label        0\n",
              "dtype: int64"
            ]
          },
          "metadata": {},
          "execution_count": 97
        }
      ]
    },
    {
      "cell_type": "code",
      "source": [
        "#replacing null values with empty string\n",
        "df.fillna('',inplace=True)"
      ],
      "metadata": {
        "id": "N19XIMzosaz5"
      },
      "execution_count": 98,
      "outputs": []
    },
    {
      "cell_type": "code",
      "source": [
        "#merging the author name and news title\n",
        "df['content'] = df['title']+' '+df['author']"
      ],
      "metadata": {
        "id": "WVg2zSV6sjvA"
      },
      "execution_count": 99,
      "outputs": []
    },
    {
      "cell_type": "code",
      "source": [
        "print(df['content'])"
      ],
      "metadata": {
        "colab": {
          "base_uri": "https://localhost:8080/"
        },
        "id": "xYyse9Qmswy6",
        "outputId": "cae22ee1-57a8-474d-d101-e2a9de96e4b9"
      },
      "execution_count": 100,
      "outputs": [
        {
          "output_type": "stream",
          "name": "stdout",
          "text": [
            "0        House Dem Aide: We Didn’t Even See Comey’s Let...\n",
            "1        FLYNN: Hillary Clinton, Big Woman on Campus - ...\n",
            "2        Why the Truth Might Get You Fired Consortiumne...\n",
            "3        15 Civilians Killed In Single US Airstrike Hav...\n",
            "4        Iranian woman jailed for fictional unpublished...\n",
            "                               ...                        \n",
            "10948    U.S., in Reversal, Issues Permit for Keystone ...\n",
            "10949    University of Chicago: Why Milo Scares Student...\n",
            "10950    Migrants FLOOD Into U.S. From Mexico Right Bef...\n",
            "10951    Twitter Temporarily Censored Drudge Report Twe...\n",
            "10952    Trophy Hunting Fees Do Little to Help Threaten...\n",
            "Name: content, Length: 10953, dtype: object\n"
          ]
        }
      ]
    },
    {
      "cell_type": "code",
      "source": [
        "#Seperate the data labels and target\n",
        "X=df.drop(columns='label',axis=1)\n",
        "y=df['label']\n",
        "print(X)\n",
        "print(y)"
      ],
      "metadata": {
        "colab": {
          "base_uri": "https://localhost:8080/"
        },
        "id": "lhn33yfutCI8",
        "outputId": "cbbed541-2123-4fe3-c413-f68c079cdada"
      },
      "execution_count": 101,
      "outputs": [
        {
          "output_type": "stream",
          "name": "stdout",
          "text": [
            "          id                                              title  \\\n",
            "0          0  House Dem Aide: We Didn’t Even See Comey’s Let...   \n",
            "1          1  FLYNN: Hillary Clinton, Big Woman on Campus - ...   \n",
            "2          2                  Why the Truth Might Get You Fired   \n",
            "3          3  15 Civilians Killed In Single US Airstrike Hav...   \n",
            "4          4  Iranian woman jailed for fictional unpublished...   \n",
            "...      ...                                                ...   \n",
            "10948  10948  U.S., in Reversal, Issues Permit for Keystone ...   \n",
            "10949  10949  University of Chicago: Why Milo Scares Student...   \n",
            "10950  10950  Migrants FLOOD Into U.S. From Mexico Right Bef...   \n",
            "10951  10951  Twitter Temporarily Censored Drudge Report Twe...   \n",
            "10952  10952  Trophy Hunting Fees Do Little to Help Threaten...   \n",
            "\n",
            "                   author                                               text  \\\n",
            "0           Darrell Lucus  House Dem Aide: We Didn’t Even See Comey’s Let...   \n",
            "1         Daniel J. Flynn  Ever get the feeling your life circles the rou...   \n",
            "2      Consortiumnews.com  Why the Truth Might Get You Fired October 29, ...   \n",
            "3         Jessica Purkiss  Videos 15 Civilians Killed In Single US Airstr...   \n",
            "4          Howard Portnoy  Print \\nAn Iranian woman has been sentenced to...   \n",
            "...                   ...                                                ...   \n",
            "10948     Clifford Krauss  HOUSTON  —   During his presidential campaign,...   \n",
            "10949        Tom Ciccotta  An article published by the University of Chic...   \n",
            "10950         Robert Gehl  With 12 days to go until the election, all eye...   \n",
            "10951       Allum Bokhari  Earlier today, users on Twitter reported that ...   \n",
            "10952       Jada F. Smith  WASHINGTON  —   Advocates of trophy hunting, a...   \n",
            "\n",
            "                                                 content  \n",
            "0      House Dem Aide: We Didn’t Even See Comey’s Let...  \n",
            "1      FLYNN: Hillary Clinton, Big Woman on Campus - ...  \n",
            "2      Why the Truth Might Get You Fired Consortiumne...  \n",
            "3      15 Civilians Killed In Single US Airstrike Hav...  \n",
            "4      Iranian woman jailed for fictional unpublished...  \n",
            "...                                                  ...  \n",
            "10948  U.S., in Reversal, Issues Permit for Keystone ...  \n",
            "10949  University of Chicago: Why Milo Scares Student...  \n",
            "10950  Migrants FLOOD Into U.S. From Mexico Right Bef...  \n",
            "10951  Twitter Temporarily Censored Drudge Report Twe...  \n",
            "10952  Trophy Hunting Fees Do Little to Help Threaten...  \n",
            "\n",
            "[10953 rows x 5 columns]\n",
            "0        1\n",
            "1        0\n",
            "2        1\n",
            "3        1\n",
            "4        1\n",
            "        ..\n",
            "10948    0\n",
            "10949    0\n",
            "10950    1\n",
            "10951    0\n",
            "10952    0\n",
            "Name: label, Length: 10953, dtype: int64\n"
          ]
        }
      ]
    },
    {
      "cell_type": "markdown",
      "source": [
        "**Stemming**\n",
        "Stemming : is the process of reducing word to its Root woord (\"removing prfix and suffix\")\n",
        "\n",
        "\n",
        "exemple : acting , actress , actor --> act\n",
        "\n",
        "\n",
        "It is an important step because we need to reduces the words as much as possible for better model performance ."
      ],
      "metadata": {
        "id": "ywtwIlp0uGaH"
      }
    },
    {
      "cell_type": "code",
      "source": [
        "port_stem = PorterStemmer()"
      ],
      "metadata": {
        "id": "B7D08yfruDmW"
      },
      "execution_count": 102,
      "outputs": []
    },
    {
      "cell_type": "code",
      "source": [
        "def stemming(content):\n",
        "  stemmed_content=re.sub('[^a+zA-z]',' ',content)\n",
        "  # ^ --> exclusion anything that is not from a-z and from A-Z, In our data there is non alphabetical letters and I only want\n",
        "  # alphabetical ones , they will be replace by a space\n",
        "  stemmed_content = stemmed_content.lower() #converting the alphabetical to lower case because upper case letters means some significant things\n",
        "  stemmed_content= stemmed_content.split() #words will be splited and converted to a list\n",
        "  stemmed_content= [port_stem.stem(word) for word in stemmed_content if not word in stopwords.words('english')]\n",
        "  stemmed_content = ' '.join(stemmed_content)\n",
        "  return stemmed_content\n",
        "\n"
      ],
      "metadata": {
        "id": "PO62K_z9vJoq"
      },
      "execution_count": 103,
      "outputs": []
    },
    {
      "cell_type": "code",
      "source": [
        "df['content']=df['content'].apply(stemming)"
      ],
      "metadata": {
        "id": "pNNUmS8t0doW"
      },
      "execution_count": 104,
      "outputs": []
    },
    {
      "cell_type": "code",
      "source": [
        "print(df['content'])"
      ],
      "metadata": {
        "colab": {
          "base_uri": "https://localhost:8080/"
        },
        "id": "HdQZbYTB0ly4",
        "outputId": "4a03c1bc-c18d-488f-8171-7b72539717c5"
      },
      "execution_count": 105,
      "outputs": [
        {
          "output_type": "stream",
          "name": "stdout",
          "text": [
            "0        hous dem aid even see comey letter jason chaff...\n",
            "1        flynn hillari clinton big woman campu breitbar...\n",
            "2                   truth might get fire consortiumnew com\n",
            "3        civilian kill singl us airstrik identifi jessi...\n",
            "4        iranian woman jail fiction unpublish stori wom...\n",
            "                               ...                        \n",
            "10948    u revers issu permit keyston oil pipelin new y...\n",
            "10949    univers chicago milo scare student faculti eve...\n",
            "10950       migrant flood u mexico right elect robert gehl\n",
            "10951    twitter temporarili censor drudg report tweet ...\n",
            "10952    trophi hunt fee littl help threaten speci repo...\n",
            "Name: content, Length: 10953, dtype: object\n"
          ]
        }
      ]
    },
    {
      "cell_type": "code",
      "source": [
        "#Seperating the data and labels\n",
        "X=df['content'].values\n",
        "y=df['label'].values\n",
        "print(X.shape)\n",
        "print(y.shape)"
      ],
      "metadata": {
        "colab": {
          "base_uri": "https://localhost:8080/"
        },
        "id": "VW9ladMy1bm3",
        "outputId": "16e6108b-4024-4778-815a-5e1604560320"
      },
      "execution_count": 106,
      "outputs": [
        {
          "output_type": "stream",
          "name": "stdout",
          "text": [
            "(10953,)\n",
            "(10953,)\n"
          ]
        }
      ]
    },
    {
      "cell_type": "code",
      "source": [
        "#converting the textual data into numerical data\n",
        "vectorizer  = TfidfVectorizer() #Counting the number of times a particular words is repeating in a document , paragraph , text\n",
        "vectorizer.fit(X)\n",
        "X = vectorizer.transform(X)"
      ],
      "metadata": {
        "id": "vHAG3AzY2TzK"
      },
      "execution_count": 107,
      "outputs": []
    },
    {
      "cell_type": "code",
      "source": [
        "print(X)"
      ],
      "metadata": {
        "colab": {
          "base_uri": "https://localhost:8080/"
        },
        "id": "TNdmlvOt6mCr",
        "outputId": "a8564b57-d0af-4084-a0c6-519c7ee1207f"
      },
      "execution_count": 108,
      "outputs": [
        {
          "output_type": "stream",
          "name": "stdout",
          "text": [
            "  (0, 11838)\t0.2865708705597008\n",
            "  (0, 10153)\t0.2613181592734911\n",
            "  (0, 6739)\t0.3549603901896217\n",
            "  (0, 6532)\t0.288843602049239\n",
            "  (0, 5834)\t0.24723479687619354\n",
            "  (0, 5325)\t0.22509254700928746\n",
            "  (0, 3793)\t0.2384099144439043\n",
            "  (0, 2902)\t0.2717295903085129\n",
            "  (0, 2754)\t0.3549603901896217\n",
            "  (0, 2263)\t0.24813424458297476\n",
            "  (0, 1903)\t0.36738018000596945\n",
            "  (0, 217)\t0.27415108074335315\n",
            "  (1, 12631)\t0.29293012473648056\n",
            "  (1, 5194)\t0.18714081492537926\n",
            "  (1, 4210)\t0.7215318119129445\n",
            "  (1, 2730)\t0.26362745494594264\n",
            "  (1, 2149)\t0.18802925703388923\n",
            "  (1, 1708)\t0.3859911096211017\n",
            "  (1, 1466)\t0.15150187448413935\n",
            "  (1, 1166)\t0.2859470416490254\n",
            "  (2, 11784)\t0.4249345052000388\n",
            "  (2, 7258)\t0.48957416267184056\n",
            "  (2, 4557)\t0.3453656914835271\n",
            "  (2, 4124)\t0.38745005808339017\n",
            "  (2, 2378)\t0.4561359099733589\n",
            "  :\t:\n",
            "  (10951, 11396)\t0.32577355832180216\n",
            "  (10951, 10199)\t0.33628589388218766\n",
            "  (10951, 9460)\t0.17739886438657157\n",
            "  (10951, 4102)\t0.32577355832180216\n",
            "  (10951, 3347)\t0.32577355832180216\n",
            "  (10951, 2402)\t0.3109572535095673\n",
            "  (10951, 1873)\t0.3109572535095673\n",
            "  (10951, 1466)\t0.11210949998053232\n",
            "  (10951, 1321)\t0.2856286131369471\n",
            "  (10951, 1053)\t0.23135040179043576\n",
            "  (10951, 318)\t0.2856286131369471\n",
            "  (10952, 12779)\t0.09054367396044133\n",
            "  (10952, 11748)\t0.3574704198558827\n",
            "  (10952, 11542)\t0.08901190644999504\n",
            "  (10952, 11503)\t0.27195075176884304\n",
            "  (10952, 10756)\t0.3381409251010895\n",
            "  (10952, 10587)\t0.2507372818033533\n",
            "  (10952, 9986)\t0.18592019180733263\n",
            "  (10952, 9460)\t0.19965661767560408\n",
            "  (10952, 7762)\t0.08748875592523273\n",
            "  (10952, 6638)\t0.2881151261960516\n",
            "  (10952, 5805)\t0.395154037159116\n",
            "  (10952, 5391)\t0.32146565879941025\n",
            "  (10952, 5126)\t0.2495275985063848\n",
            "  (10952, 4027)\t0.34363257280916804\n"
          ]
        }
      ]
    },
    {
      "cell_type": "code",
      "source": [
        "print(y)"
      ],
      "metadata": {
        "colab": {
          "base_uri": "https://localhost:8080/"
        },
        "id": "PHbvDqxE6uVV",
        "outputId": "a339856c-f92e-4e84-faba-bce1129ee826"
      },
      "execution_count": 109,
      "outputs": [
        {
          "output_type": "stream",
          "name": "stdout",
          "text": [
            "[1 0 1 ... 1 0 0]\n"
          ]
        }
      ]
    },
    {
      "cell_type": "markdown",
      "source": [
        "**Building our Machine Learning algorithme**\n",
        "\n",
        "Splitting the dataset"
      ],
      "metadata": {
        "id": "McDRy-_A5qPj"
      }
    },
    {
      "cell_type": "code",
      "source": [
        "#splitting the data into training & test data\n",
        "X_train,X_test,y_train,y_test = train_test_split(X,y,test_size=0.3,stratify=y,random_state=42) #stratify=y for a similar propotion for the fake and real news"
      ],
      "metadata": {
        "id": "eqTx09Li5tTG"
      },
      "execution_count": 110,
      "outputs": []
    },
    {
      "cell_type": "markdown",
      "source": [
        "Training the model"
      ],
      "metadata": {
        "id": "ir3DqWav7C_S"
      }
    },
    {
      "cell_type": "code",
      "source": [
        "model = LogisticRegression()\n",
        "model.fit(X_train,y_train)\n",
        "y_pred_train=model.predict(X_train)\n",
        "print(\"accuracy : \",accuracy_score(y_train,y_pred_train))"
      ],
      "metadata": {
        "colab": {
          "base_uri": "https://localhost:8080/"
        },
        "id": "APJozfA769ms",
        "outputId": "08bb086a-c4bd-4d2a-f8b4-3c40b8c1df36"
      },
      "execution_count": 111,
      "outputs": [
        {
          "output_type": "stream",
          "name": "stdout",
          "text": [
            "accuracy :  0.9809573496804487\n"
          ]
        }
      ]
    },
    {
      "cell_type": "markdown",
      "source": [
        "Evaluating the model performance"
      ],
      "metadata": {
        "id": "Vel4WyFL7ItG"
      }
    },
    {
      "cell_type": "code",
      "source": [
        "y_pred=model.predict(X_test)\n",
        "print(\"accuracy: \",accuracy_score(y_test,y_pred))"
      ],
      "metadata": {
        "colab": {
          "base_uri": "https://localhost:8080/"
        },
        "id": "5_FUDE607MZM",
        "outputId": "36d1bf07-182e-4020-cc30-0a7e5351be18"
      },
      "execution_count": 112,
      "outputs": [
        {
          "output_type": "stream",
          "name": "stdout",
          "text": [
            "accuracy:  0.9653073645769933\n"
          ]
        }
      ]
    },
    {
      "cell_type": "markdown",
      "source": [
        "**Building a predictive System**"
      ],
      "metadata": {
        "id": "Dxl9DSn68KUg"
      }
    },
    {
      "cell_type": "code",
      "source": [
        "X_news= X_test[0]\n",
        "prediction = model.predict(X_news)\n",
        "if prediction == 0:\n",
        "  print(\"real news\")\n",
        "else:\n",
        "  print(\"fake news\")"
      ],
      "metadata": {
        "colab": {
          "base_uri": "https://localhost:8080/"
        },
        "id": "ePToyMbQ8MOH",
        "outputId": "a2fce77d-a0e3-46e9-b50f-4b51032843b9"
      },
      "execution_count": 113,
      "outputs": [
        {
          "output_type": "stream",
          "name": "stdout",
          "text": [
            "fake news\n"
          ]
        }
      ]
    }
  ],
  "metadata": {
    "colab": {
      "provenance": []
    },
    "kernelspec": {
      "display_name": "Python 3",
      "name": "python3"
    },
    "language_info": {
      "name": "python"
    }
  },
  "nbformat": 4,
  "nbformat_minor": 0
}